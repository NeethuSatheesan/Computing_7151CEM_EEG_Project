{
  "nbformat": 4,
  "nbformat_minor": 0,
  "metadata": {
    "colab": {
      "provenance": []
    },
    "kernelspec": {
      "name": "python3",
      "display_name": "Python 3"
    },
    "language_info": {
      "name": "python"
    },
    "accelerator": "GPU",
    "gpuClass": "standard"
  },
  "cells": [
    {
      "cell_type": "code",
      "execution_count": null,
      "metadata": {
        "id": "JCe6I7T2Xq6a"
      },
      "outputs": [],
      "source": [
        "import numpy as np\n",
        "import pandas as pd \n",
        "import matplotlib.pyplot as plt\n",
        "import seaborn as sns\n",
        "sns.set()\n",
        "import time"
      ]
    },
    {
      "cell_type": "code",
      "source": [
        "import pandas as pd\n",
        "import numpy as np\n",
        "from sklearn.preprocessing import StandardScaler\n",
        "from sklearn.model_selection import train_test_split\n",
        "\n",
        "#Metrics Evaluation\n",
        "from sklearn import metrics\n",
        "from sklearn.metrics import ConfusionMatrixDisplay\n",
        "from sklearn.metrics import classification_report,confusion_matrix\n",
        "\n",
        "import matplotlib.pyplot as plt\n",
        "import seaborn as sns\n",
        "\n",
        "# MLP Architecture (Multi Layer Perceptron)\n",
        "import tensorflow as tf\n",
        "from tensorflow import keras\n",
        "from keras.models import Sequential\n",
        "from keras.layers import Activation, Dense\n",
        "\n",
        "# CNN Architecture (Convolutional Neural Network)\n",
        "from keras.models import Sequential\n",
        "from keras.layers import Dense\n",
        "from keras.layers import Flatten\n",
        "from keras.layers import Dropout\n",
        "from keras.layers.convolutional import Conv1D\n",
        "from keras.layers.convolutional import MaxPooling1D"
      ],
      "metadata": {
        "id": "L4imPKIUAiD3"
      },
      "execution_count": null,
      "outputs": []
    },
    {
      "cell_type": "code",
      "source": [
        "brain_signal = pd.read_excel(r'/content/drive/MyDrive/EEG_Dataset_Decoded/Training_data.xlsx',header=None)"
      ],
      "metadata": {
        "id": "k2gXjEqBcIRx"
      },
      "execution_count": null,
      "outputs": []
    },
    {
      "cell_type": "code",
      "source": [
        "print(brain_signal.shape)\n",
        "print(\"Number of rows: \"+str(brain_signal.shape[0]))\n",
        "print(\"Number of columns: \"+str(brain_signal.shape[1]))"
      ],
      "metadata": {
        "colab": {
          "base_uri": "https://localhost:8080/"
        },
        "id": "yJoyuwtIcPYc",
        "outputId": "7c6a5686-361a-435e-c06b-5765a8ff004a"
      },
      "execution_count": null,
      "outputs": [
        {
          "output_type": "stream",
          "name": "stdout",
          "text": [
            "(24343, 640)\n",
            "Number of rows: 24343\n",
            "Number of columns: 640\n"
          ]
        }
      ]
    },
    {
      "cell_type": "code",
      "source": [
        "brain_signal_labels = pd.read_excel(r'/content/drive/MyDrive/EEG_Dataset_Decoded/Training_labels.xlsx',header=None)"
      ],
      "metadata": {
        "id": "aLy7zNgtbzgZ"
      },
      "execution_count": null,
      "outputs": []
    },
    {
      "cell_type": "code",
      "source": [
        "print(brain_signal_labels.shape)\n",
        "print(\"Number of rows: \"+str(brain_signal_labels.shape[0]))\n",
        "print(\"Number of columns: \"+str(brain_signal_labels.shape[1]))"
      ],
      "metadata": {
        "colab": {
          "base_uri": "https://localhost:8080/"
        },
        "id": "3T-wWLyBb7Wr",
        "outputId": "4ee26881-fa41-4ed4-9635-d16dadee8ab9"
      },
      "execution_count": null,
      "outputs": [
        {
          "output_type": "stream",
          "name": "stdout",
          "text": [
            "(24343, 1)\n",
            "Number of rows: 24343\n",
            "Number of columns: 1\n"
          ]
        }
      ]
    },
    {
      "cell_type": "code",
      "source": [
        "brain_signal_labels.value_counts()"
      ],
      "metadata": {
        "colab": {
          "base_uri": "https://localhost:8080/"
        },
        "id": "6xdG5accbwSh",
        "outputId": "dccebdb5-6e4b-44f7-caee-f27bddacbb01"
      },
      "execution_count": null,
      "outputs": [
        {
          "output_type": "execute_result",
          "data": {
            "text/plain": [
              "3    6088\n",
              "2    6087\n",
              "0    6085\n",
              "1    6083\n",
              "dtype: int64"
            ]
          },
          "metadata": {},
          "execution_count": 9
        }
      ]
    },
    {
      "cell_type": "code",
      "source": [
        "brain_signal.isnull().values.any()"
      ],
      "metadata": {
        "colab": {
          "base_uri": "https://localhost:8080/"
        },
        "id": "nCtgpibEdw5R",
        "outputId": "ed393aa9-325f-4f96-db4c-4345908307ac"
      },
      "execution_count": null,
      "outputs": [
        {
          "output_type": "execute_result",
          "data": {
            "text/plain": [
              "False"
            ]
          },
          "metadata": {},
          "execution_count": 10
        }
      ]
    },
    {
      "cell_type": "code",
      "source": [
        "brain_signal_labels.isnull().values.any()"
      ],
      "metadata": {
        "colab": {
          "base_uri": "https://localhost:8080/"
        },
        "id": "bbJm4M58eAXY",
        "outputId": "52363b4b-bf0c-4700-9e46-74788ed00892"
      },
      "execution_count": null,
      "outputs": [
        {
          "output_type": "execute_result",
          "data": {
            "text/plain": [
              "False"
            ]
          },
          "metadata": {},
          "execution_count": 11
        }
      ]
    },
    {
      "cell_type": "code",
      "source": [
        "# define min max scaler\n",
        "from sklearn.preprocessing import MinMaxScaler,StandardScaler\n",
        "sc= MinMaxScaler()\n",
        "# sc = StandardScaler()\n",
        "# transform data\n",
        "scaled_brain_signal= sc.fit_transform(brain_signal)"
      ],
      "metadata": {
        "id": "9J2n7_iqkpt7"
      },
      "execution_count": null,
      "outputs": []
    },
    {
      "cell_type": "code",
      "source": [
        "#SVD\n",
        "from sklearn.decomposition import TruncatedSVD # optimized form of SVD\n",
        "import time"
      ],
      "metadata": {
        "id": "YlObKcEqIfZZ"
      },
      "execution_count": null,
      "outputs": []
    },
    {
      "cell_type": "code",
      "source": [
        "# Program to find the optimal number of components for Truncated SVD\n",
        "%%time\n",
        "start = time.time()\n",
        "n_comp = [4,10,15,20,25,30,40,50,100,150,200,500] # list containing different values of components\n",
        "explained = [] # explained variance ratio for each component of Truncated SVD\n",
        "for x in n_comp:\n",
        "    svd = TruncatedSVD(n_components=x)\n",
        "    svd.fit(scaled_brain_signal)\n",
        "    explained.append(svd.explained_variance_ratio_.sum())\n",
        "    print(\"Number of components = %r and explained variance = %r\"%(x,svd.explained_variance_ratio_.sum()))\n",
        "plt.plot(n_comp, explained)\n",
        "plt.xlabel('Number of components')\n",
        "plt.ylabel(\"Explained Variance\")\n",
        "plt.title(\"Plot of Number of components v/s explained variance\")\n",
        "plt.show()\n",
        "print('Duration: {} seconds'.format(time.time() - start))"
      ],
      "metadata": {
        "colab": {
          "base_uri": "https://localhost:8080/",
          "height": 561
        },
        "id": "rJ_3dcHHI686",
        "outputId": "a1c75f81-5719-4da0-ab9b-e4466a7f592d"
      },
      "execution_count": null,
      "outputs": [
        {
          "output_type": "stream",
          "name": "stdout",
          "text": [
            "Number of components = 4 and explained variance = 0.15700835763393475\n",
            "Number of components = 10 and explained variance = 0.42535719243673015\n",
            "Number of components = 15 and explained variance = 0.5936906618009984\n",
            "Number of components = 20 and explained variance = 0.7130387254173337\n",
            "Number of components = 25 and explained variance = 0.8067687523535789\n",
            "Number of components = 30 and explained variance = 0.8682883489794699\n",
            "Number of components = 40 and explained variance = 0.9445336003526221\n",
            "Number of components = 50 and explained variance = 0.9786109370460555\n",
            "Number of components = 100 and explained variance = 0.9999729556362259\n",
            "Number of components = 150 and explained variance = 0.9999966265777837\n",
            "Number of components = 200 and explained variance = 0.9999977435337941\n",
            "Number of components = 500 and explained variance = 0.9999999970128729\n"
          ]
        },
        {
          "output_type": "display_data",
          "data": {
            "text/plain": [
              "<Figure size 432x288 with 1 Axes>"
            ],
            "image/png": "[encoded data removed]"
          },
          "metadata": {}
        },
        {
          "output_type": "stream",
          "name": "stdout",
          "text": [
            "Duration: 32.76143431663513 seconds\n",
            "CPU times: user 43.2 s, sys: 20.1 s, total: 1min 3s\n",
            "Wall time: 32.8 s\n"
          ]
        }
      ]
    },
    {
      "cell_type": "code",
      "source": [
        "start = time.time()\n",
        "svd = TruncatedSVD(n_components=25)\n",
        "principalComponents= svd.fit_transform(scaled_brain_signal)\n",
        "print('Duration: {} seconds'.format(time.time() - start))\n",
        "train_svd = pd.DataFrame(data = principalComponents)"
      ],
      "metadata": {
        "colab": {
          "base_uri": "https://localhost:8080/"
        },
        "id": "CLh2Gh2_JtU5",
        "outputId": "ba4a4424-1096-4826-bb8d-1cb61bba8e19"
      },
      "execution_count": null,
      "outputs": [
        {
          "output_type": "stream",
          "name": "stdout",
          "text": [
            "Duration: 1.474442958831787 seconds\n"
          ]
        }
      ]
    },
    {
      "cell_type": "code",
      "source": [
        "train_svd"
      ],
      "metadata": {
        "colab": {
          "base_uri": "https://localhost:8080/",
          "height": 488
        },
        "id": "F_16j7CkiTKf",
        "outputId": "eb833ae7-3859-48e7-9a40-a47a98cd4904"
      },
      "execution_count": null,
      "outputs": [
        {
          "output_type": "execute_result",
          "data": {
            "text/plain": [
              "             0         1         2         3         4         5         6   \\\n",
              "0      5.778480 -0.640222  0.179728 -0.410133  0.222423 -0.080063 -0.773071   \n",
              "1      5.796927  1.628617  0.017926 -0.304221  1.928838  0.554984 -0.687067   \n",
              "2      5.788724  1.488667  0.383284 -0.959041 -0.251521  0.610469 -1.460108   \n",
              "3      5.746307  1.038455 -0.604942  0.045660  1.202565  0.716039 -0.847091   \n",
              "4      5.771434 -0.356915 -0.201454 -0.771117 -0.320313 -0.518421  0.385899   \n",
              "...         ...       ...       ...       ...       ...       ...       ...   \n",
              "24338  5.743664 -0.543931 -0.795314 -0.240648 -0.210668 -0.315483 -0.092828   \n",
              "24339  5.870565  0.355230 -1.443942 -0.760943 -0.451325 -0.289604  0.701614   \n",
              "24340  5.747010 -0.309058 -0.546653  0.105063 -0.530356  0.005005  0.530194   \n",
              "24341  5.807024 -0.453047  0.246566 -0.488551 -0.379318  0.463300  0.246175   \n",
              "24342  5.793946 -0.131075 -0.509286  0.510076  0.913484 -0.266640 -0.301311   \n",
              "\n",
              "             7         8         9   ...        15        16        17  \\\n",
              "0      1.361174 -0.380127 -0.825067  ... -0.469924 -0.275478 -0.969582   \n",
              "1     -0.229926  0.633148  0.336554  ... -0.746611 -0.192526 -0.080615   \n",
              "2     -0.533423 -0.878819 -1.378175  ...  0.611979  0.091631  0.379929   \n",
              "3     -0.791397  0.130906  0.006150  ... -0.177899  0.834191 -0.115964   \n",
              "4      1.484792  0.314222 -0.545623  ... -0.465336  0.715046  0.233228   \n",
              "...         ...       ...       ...  ...       ...       ...       ...   \n",
              "24338  2.452313 -0.935973 -1.075487  ...  0.363379  0.119882  0.429320   \n",
              "24339 -1.240064 -0.973213  0.332337  ...  0.180589  0.762808 -0.384643   \n",
              "24340  0.760143 -0.011936 -0.484630  ...  1.198902 -0.328101 -0.151964   \n",
              "24341  1.247626  0.050039  1.623705  ... -0.614799  0.166603 -0.010779   \n",
              "24342 -0.711232  0.390665  1.305355  ...  0.700863 -0.156178 -0.262545   \n",
              "\n",
              "             18        19        20        21        22        23        24  \n",
              "0      0.327231 -0.455442  0.624885  0.152007 -0.381613  0.021202  0.506256  \n",
              "1      0.084425 -0.112626 -0.130843  0.426510 -0.463336  0.062584  0.555266  \n",
              "2     -0.125221 -0.312763  0.047948 -0.097537 -0.033039  0.105715  0.145667  \n",
              "3     -0.311698  0.737937 -0.511405 -0.239860  0.223367  0.425744 -0.140696  \n",
              "4     -0.577343 -0.747536  0.931599  0.080634 -0.036766  0.710631 -0.630736  \n",
              "...         ...       ...       ...       ...       ...       ...       ...  \n",
              "24338 -0.173036 -0.143458 -0.014633 -0.194740 -0.148446  0.187445  0.089599  \n",
              "24339 -0.156836 -0.104738 -0.067746 -0.165639  0.585322  0.218056  0.228887  \n",
              "24340 -0.706580 -0.653715  0.141495 -0.467821  0.163092 -0.427627 -0.359734  \n",
              "24341  0.028307 -0.106925 -0.054702 -1.263792 -0.245657  0.647970 -0.081264  \n",
              "24342  0.001230 -0.570193 -0.282129 -0.316237 -0.412149 -0.892599  0.386656  \n",
              "\n",
              "[24343 rows x 25 columns]"
            ],
            "text/html": [
              "\n",
              "  <div id=\"df-0f5a2b53-da73-4ad8-9d33-d26dfda43134\">\n",
              "    <div class=\"colab-df-container\">\n",
              "      <div>\n",
              "<style scoped>\n",
              "    .dataframe tbody tr th:only-of-type {\n",
              "        vertical-align: middle;\n",
              "    }\n",
              "\n",
              "    .dataframe tbody tr th {\n",
              "        vertical-align: top;\n",
              "    }\n",
              "\n",
              "    .dataframe thead th {\n",
              "        text-align: right;\n",
              "    }\n",
              "</style>\n",
              "<table border=\"1\" class=\"dataframe\">\n",
              "  <thead>\n",
              "    <tr style=\"text-align: right;\">\n",
              "      <th></th>\n",
              "      <th>0</th>\n",
              "      <th>1</th>\n",
              "      <th>2</th>\n",
              "      <th>3</th>\n",
              "      <th>4</th>\n",
              "      <th>5</th>\n",
              "      <th>6</th>\n",
              "      <th>7</th>\n",
              "      <th>8</th>\n",
              "      <th>9</th>\n",
              "      <th>...</th>\n",
              "      <th>15</th>\n",
              "      <th>16</th>\n",
              "      <th>17</th>\n",
              "      <th>18</th>\n",
              "      <th>19</th>\n",
              "      <th>20</th>\n",
              "      <th>21</th>\n",
              "      <th>22</th>\n",
              "      <th>23</th>\n",
              "      <th>24</th>\n",
              "    </tr>\n",
              "  </thead>\n",
              "  <tbody>\n",
              "    <tr>\n",
              "      <th>0</th>\n",
              "      <td>5.778480</td>\n",
              "      <td>-0.640222</td>\n",
              "      <td>0.179728</td>\n",
              "      <td>-0.410133</td>\n",
              "      <td>0.222423</td>\n",
              "      <td>-0.080063</td>\n",
              "      <td>-0.773071</td>\n",
              "      <td>1.361174</td>\n",
              "      <td>-0.380127</td>\n",
              "      <td>-0.825067</td>\n",
              "      <td>...</td>\n",
              "      <td>-0.469924</td>\n",
              "      <td>-0.275478</td>\n",
              "      <td>-0.969582</td>\n",
              "      <td>0.327231</td>\n",
              "      <td>-0.455442</td>\n",
              "      <td>0.624885</td>\n",
              "      <td>0.152007</td>\n",
              "      <td>-0.381613</td>\n",
              "      <td>0.021202</td>\n",
              "      <td>0.506256</td>\n",
              "    </tr>\n",
              "    <tr>\n",
              "      <th>1</th>\n",
              "      <td>5.796927</td>\n",
              "      <td>1.628617</td>\n",
              "      <td>0.017926</td>\n",
              "      <td>-0.304221</td>\n",
              "      <td>1.928838</td>\n",
              "      <td>0.554984</td>\n",
              "      <td>-0.687067</td>\n",
              "      <td>-0.229926</td>\n",
              "      <td>0.633148</td>\n",
              "      <td>0.336554</td>\n",
              "      <td>...</td>\n",
              "      <td>-0.746611</td>\n",
              "      <td>-0.192526</td>\n",
              "      <td>-0.080615</td>\n",
              "      <td>0.084425</td>\n",
              "      <td>-0.112626</td>\n",
              "      <td>-0.130843</td>\n",
              "      <td>0.426510</td>\n",
              "      <td>-0.463336</td>\n",
              "      <td>0.062584</td>\n",
              "      <td>0.555266</td>\n",
              "    </tr>\n",
              "    <tr>\n",
              "      <th>2</th>\n",
              "      <td>5.788724</td>\n",
              "      <td>1.488667</td>\n",
              "      <td>0.383284</td>\n",
              "      <td>-0.959041</td>\n",
              "      <td>-0.251521</td>\n",
              "      <td>0.610469</td>\n",
              "      <td>-1.460108</td>\n",
              "      <td>-0.533423</td>\n",
              "      <td>-0.878819</td>\n",
              "      <td>-1.378175</td>\n",
              "      <td>...</td>\n",
              "      <td>0.611979</td>\n",
              "      <td>0.091631</td>\n",
              "      <td>0.379929</td>\n",
              "      <td>-0.125221</td>\n",
              "      <td>-0.312763</td>\n",
              "      <td>0.047948</td>\n",
              "      <td>-0.097537</td>\n",
              "      <td>-0.033039</td>\n",
              "      <td>0.105715</td>\n",
              "      <td>0.145667</td>\n",
              "    </tr>\n",
              "    <tr>\n",
              "      <th>3</th>\n",
              "      <td>5.746307</td>\n",
              "      <td>1.038455</td>\n",
              "      <td>-0.604942</td>\n",
              "      <td>0.045660</td>\n",
              "      <td>1.202565</td>\n",
              "      <td>0.716039</td>\n",
              "      <td>-0.847091</td>\n",
              "      <td>-0.791397</td>\n",
              "      <td>0.130906</td>\n",
              "      <td>0.006150</td>\n",
              "      <td>...</td>\n",
              "      <td>-0.177899</td>\n",
              "      <td>0.834191</td>\n",
              "      <td>-0.115964</td>\n",
              "      <td>-0.311698</td>\n",
              "      <td>0.737937</td>\n",
              "      <td>-0.511405</td>\n",
              "      <td>-0.239860</td>\n",
              "      <td>0.223367</td>\n",
              "      <td>0.425744</td>\n",
              "      <td>-0.140696</td>\n",
              "    </tr>\n",
              "    <tr>\n",
              "      <th>4</th>\n",
              "      <td>5.771434</td>\n",
              "      <td>-0.356915</td>\n",
              "      <td>-0.201454</td>\n",
              "      <td>-0.771117</td>\n",
              "      <td>-0.320313</td>\n",
              "      <td>-0.518421</td>\n",
              "      <td>0.385899</td>\n",
              "      <td>1.484792</td>\n",
              "      <td>0.314222</td>\n",
              "      <td>-0.545623</td>\n",
              "      <td>...</td>\n",
              "      <td>-0.465336</td>\n",
              "      <td>0.715046</td>\n",
              "      <td>0.233228</td>\n",
              "      <td>-0.577343</td>\n",
              "      <td>-0.747536</td>\n",
              "      <td>0.931599</td>\n",
              "      <td>0.080634</td>\n",
              "      <td>-0.036766</td>\n",
              "      <td>0.710631</td>\n",
              "      <td>-0.630736</td>\n",
              "    </tr>\n",
              "    <tr>\n",
              "      <th>...</th>\n",
              "      <td>...</td>\n",
              "      <td>...</td>\n",
              "      <td>...</td>\n",
              "      <td>...</td>\n",
              "      <td>...</td>\n",
              "      <td>...</td>\n",
              "      <td>...</td>\n",
              "      <td>...</td>\n",
              "      <td>...</td>\n",
              "      <td>...</td>\n",
              "      <td>...</td>\n",
              "      <td>...</td>\n",
              "      <td>...</td>\n",
              "      <td>...</td>\n",
              "      <td>...</td>\n",
              "      <td>...</td>\n",
              "      <td>...</td>\n",
              "      <td>...</td>\n",
              "      <td>...</td>\n",
              "      <td>...</td>\n",
              "      <td>...</td>\n",
              "    </tr>\n",
              "    <tr>\n",
              "      <th>24338</th>\n",
              "      <td>5.743664</td>\n",
              "      <td>-0.543931</td>\n",
              "      <td>-0.795314</td>\n",
              "      <td>-0.240648</td>\n",
              "      <td>-0.210668</td>\n",
              "      <td>-0.315483</td>\n",
              "      <td>-0.092828</td>\n",
              "      <td>2.452313</td>\n",
              "      <td>-0.935973</td>\n",
              "      <td>-1.075487</td>\n",
              "      <td>...</td>\n",
              "      <td>0.363379</td>\n",
              "      <td>0.119882</td>\n",
              "      <td>0.429320</td>\n",
              "      <td>-0.173036</td>\n",
              "      <td>-0.143458</td>\n",
              "      <td>-0.014633</td>\n",
              "      <td>-0.194740</td>\n",
              "      <td>-0.148446</td>\n",
              "      <td>0.187445</td>\n",
              "      <td>0.089599</td>\n",
              "    </tr>\n",
              "    <tr>\n",
              "      <th>24339</th>\n",
              "      <td>5.870565</td>\n",
              "      <td>0.355230</td>\n",
              "      <td>-1.443942</td>\n",
              "      <td>-0.760943</td>\n",
              "      <td>-0.451325</td>\n",
              "      <td>-0.289604</td>\n",
              "      <td>0.701614</td>\n",
              "      <td>-1.240064</td>\n",
              "      <td>-0.973213</td>\n",
              "      <td>0.332337</td>\n",
              "      <td>...</td>\n",
              "      <td>0.180589</td>\n",
              "      <td>0.762808</td>\n",
              "      <td>-0.384643</td>\n",
              "      <td>-0.156836</td>\n",
              "      <td>-0.104738</td>\n",
              "      <td>-0.067746</td>\n",
              "      <td>-0.165639</td>\n",
              "      <td>0.585322</td>\n",
              "      <td>0.218056</td>\n",
              "      <td>0.228887</td>\n",
              "    </tr>\n",
              "    <tr>\n",
              "      <th>24340</th>\n",
              "      <td>5.747010</td>\n",
              "      <td>-0.309058</td>\n",
              "      <td>-0.546653</td>\n",
              "      <td>0.105063</td>\n",
              "      <td>-0.530356</td>\n",
              "      <td>0.005005</td>\n",
              "      <td>0.530194</td>\n",
              "      <td>0.760143</td>\n",
              "      <td>-0.011936</td>\n",
              "      <td>-0.484630</td>\n",
              "      <td>...</td>\n",
              "      <td>1.198902</td>\n",
              "      <td>-0.328101</td>\n",
              "      <td>-0.151964</td>\n",
              "      <td>-0.706580</td>\n",
              "      <td>-0.653715</td>\n",
              "      <td>0.141495</td>\n",
              "      <td>-0.467821</td>\n",
              "      <td>0.163092</td>\n",
              "      <td>-0.427627</td>\n",
              "      <td>-0.359734</td>\n",
              "    </tr>\n",
              "    <tr>\n",
              "      <th>24341</th>\n",
              "      <td>5.807024</td>\n",
              "      <td>-0.453047</td>\n",
              "      <td>0.246566</td>\n",
              "      <td>-0.488551</td>\n",
              "      <td>-0.379318</td>\n",
              "      <td>0.463300</td>\n",
              "      <td>0.246175</td>\n",
              "      <td>1.247626</td>\n",
              "      <td>0.050039</td>\n",
              "      <td>1.623705</td>\n",
              "      <td>...</td>\n",
              "      <td>-0.614799</td>\n",
              "      <td>0.166603</td>\n",
              "      <td>-0.010779</td>\n",
              "      <td>0.028307</td>\n",
              "      <td>-0.106925</td>\n",
              "      <td>-0.054702</td>\n",
              "      <td>-1.263792</td>\n",
              "      <td>-0.245657</td>\n",
              "      <td>0.647970</td>\n",
              "      <td>-0.081264</td>\n",
              "    </tr>\n",
              "    <tr>\n",
              "      <th>24342</th>\n",
              "      <td>5.793946</td>\n",
              "      <td>-0.131075</td>\n",
              "      <td>-0.509286</td>\n",
              "      <td>0.510076</td>\n",
              "      <td>0.913484</td>\n",
              "      <td>-0.266640</td>\n",
              "      <td>-0.301311</td>\n",
              "      <td>-0.711232</td>\n",
              "      <td>0.390665</td>\n",
              "      <td>1.305355</td>\n",
              "      <td>...</td>\n",
              "      <td>0.700863</td>\n",
              "      <td>-0.156178</td>\n",
              "      <td>-0.262545</td>\n",
              "      <td>0.001230</td>\n",
              "      <td>-0.570193</td>\n",
              "      <td>-0.282129</td>\n",
              "      <td>-0.316237</td>\n",
              "      <td>-0.412149</td>\n",
              "      <td>-0.892599</td>\n",
              "      <td>0.386656</td>\n",
              "    </tr>\n",
              "  </tbody>\n",
              "</table>\n",
              "<p>24343 rows × 25 columns</p>\n",
              "</div>\n",
              "      <button class=\"colab-df-convert\" onclick=\"convertToInteractive('df-0f5a2b53-da73-4ad8-9d33-d26dfda43134')\"\n",
              "              title=\"Convert this dataframe to an interactive table.\"\n",
              "              style=\"display:none;\">\n",
              "        \n",
              "  <svg xmlns=\"http://www.w3.org/2000/svg\" height=\"24px\"viewBox=\"0 0 24 24\"\n",
              "       width=\"24px\">\n",
              "    <path d=\"M0 0h24v24H0V0z\" fill=\"none\"/>\n",
              "    <path d=\"M18.56 5.44l.94 2.06.94-2.06 2.06-.94-2.06-.94-.94-2.06-.94 2.06-2.06.94zm-11 1L8.5 8.5l.94-2.06 2.06-.94-2.06-.94L8.5 2.5l-.94 2.06-2.06.94zm10 10l.94 2.06.94-2.06 2.06-.94-2.06-.94-.94-2.06-.94 2.06-2.06.94z\"/><path d=\"M17.41 7.96l-1.37-1.37c-.4-.4-.92-.59-1.43-.59-.52 0-1.04.2-1.43.59L10.3 9.45l-7.72 7.72c-.78.78-.78 2.05 0 2.83L4 21.41c.39.39.9.59 1.41.59.51 0 1.02-.2 1.41-.59l7.78-7.78 2.81-2.81c.8-.78.8-2.07 0-2.86zM5.41 20L4 18.59l7.72-7.72 1.47 1.35L5.41 20z\"/>\n",
              "  </svg>\n",
              "      </button>\n",
              "      \n",
              "  <style>\n",
              "    .colab-df-container {\n",
              "      display:flex;\n",
              "      flex-wrap:wrap;\n",
              "      gap: 12px;\n",
              "    }\n",
              "\n",
              "    .colab-df-convert {\n",
              "      background-color: #E8F0FE;\n",
              "      border: none;\n",
              "      border-radius: 50%;\n",
              "      cursor: pointer;\n",
              "      display: none;\n",
              "      fill: #1967D2;\n",
              "      height: 32px;\n",
              "      padding: 0 0 0 0;\n",
              "      width: 32px;\n",
              "    }\n",
              "\n",
              "    .colab-df-convert:hover {\n",
              "      background-color: #E2EBFA;\n",
              "      box-shadow: 0px 1px 2px rgba(60, 64, 67, 0.3), 0px 1px 3px 1px rgba(60, 64, 67, 0.15);\n",
              "      fill: #174EA6;\n",
              "    }\n",
              "\n",
              "    [theme=dark] .colab-df-convert {\n",
              "      background-color: #3B4455;\n",
              "      fill: #D2E3FC;\n",
              "    }\n",
              "\n",
              "    [theme=dark] .colab-df-convert:hover {\n",
              "      background-color: #434B5C;\n",
              "      box-shadow: 0px 1px 3px 1px rgba(0, 0, 0, 0.15);\n",
              "      filter: drop-shadow(0px 1px 2px rgba(0, 0, 0, 0.3));\n",
              "      fill: #FFFFFF;\n",
              "    }\n",
              "  </style>\n",
              "\n",
              "      <script>\n",
              "        const buttonEl =\n",
              "          document.querySelector('#df-0f5a2b53-da73-4ad8-9d33-d26dfda43134 button.colab-df-convert');\n",
              "        buttonEl.style.display =\n",
              "          google.colab.kernel.accessAllowed ? 'block' : 'none';\n",
              "\n",
              "        async function convertToInteractive(key) {\n",
              "          const element = document.querySelector('#df-0f5a2b53-da73-4ad8-9d33-d26dfda43134');\n",
              "          const dataTable =\n",
              "            await google.colab.kernel.invokeFunction('convertToInteractive',\n",
              "                                                     [key], {});\n",
              "          if (!dataTable) return;\n",
              "\n",
              "          const docLinkHtml = 'Like what you see? Visit the ' +\n",
              "            '<a target=\"_blank\" href=https://colab.research.google.com/notebooks/data_table.ipynb>data table notebook</a>'\n",
              "            + ' to learn more about interactive tables.';\n",
              "          element.innerHTML = '';\n",
              "          dataTable['output_type'] = 'display_data';\n",
              "          await google.colab.output.renderOutput(dataTable, element);\n",
              "          const docLink = document.createElement('div');\n",
              "          docLink.innerHTML = docLinkHtml;\n",
              "          element.appendChild(docLink);\n",
              "        }\n",
              "      </script>\n",
              "    </div>\n",
              "  </div>\n",
              "  "
            ]
          },
          "metadata": {},
          "execution_count": 16
        }
      ]
    },
    {
      "cell_type": "code",
      "source": [
        "labels_out = brain_signal_labels[0].ravel()"
      ],
      "metadata": {
        "id": "WrK-XMIaKROa"
      },
      "execution_count": null,
      "outputs": []
    },
    {
      "cell_type": "code",
      "source": [
        "labels_out"
      ],
      "metadata": {
        "colab": {
          "base_uri": "https://localhost:8080/"
        },
        "id": "V6tU8mRKKcEU",
        "outputId": "ad87defd-1b12-4657-d6d7-44d232d76efd"
      },
      "execution_count": null,
      "outputs": [
        {
          "output_type": "execute_result",
          "data": {
            "text/plain": [
              "array([2, 1, 2, ..., 0, 2, 1])"
            ]
          },
          "metadata": {},
          "execution_count": 18
        }
      ]
    },
    {
      "cell_type": "code",
      "source": [
        "from sklearn.model_selection import train_test_split\n",
        "X_Train, X_Test, Y_Train, Y_Test = train_test_split(train_svd, labels_out, test_size = 0.20, random_state = 100)"
      ],
      "metadata": {
        "id": "_pFIAJP2V7yk"
      },
      "execution_count": null,
      "outputs": []
    },
    {
      "cell_type": "code",
      "source": [
        "# Run it\n",
        "from sklearn.ensemble import GradientBoostingClassifier\n",
        "classifier_gbm = GradientBoostingClassifier(max_depth=20)\n",
        "classifier_gbm.fit(X_Train,Y_Train)"
      ],
      "metadata": {
        "id": "fp3ijoWHcWzN",
        "colab": {
          "base_uri": "https://localhost:8080/"
        },
        "outputId": "2ce2fe7b-d449-40d3-e743-4a2d66381592"
      },
      "execution_count": null,
      "outputs": [
        {
          "output_type": "execute_result",
          "data": {
            "text/plain": [
              "GradientBoostingClassifier(max_depth=20)"
            ]
          },
          "metadata": {},
          "execution_count": 20
        }
      ]
    },
    {
      "cell_type": "code",
      "source": [
        "Y_Pred_gbm = classifier_gbm.predict(X_Test) # Run "
      ],
      "metadata": {
        "id": "MHkV9ykXfcHX"
      },
      "execution_count": null,
      "outputs": []
    },
    {
      "cell_type": "code",
      "source": [
        "import seaborn as sns\n",
        "from sklearn import metrics \n",
        "from matplotlib import pyplot as plt\n",
        "from sklearn.metrics import classification_report, confusion_matrix\n",
        "matrix = confusion_matrix(Y_Test, y_pred_gbm)\n",
        "sns.heatmap(matrix, annot=True, fmt=\"d\")\n",
        "plt.title('Confusion Matrix_GBM')\n",
        "plt.xlabel('Predicted')\n",
        "plt.ylabel('True')\n",
        "print(classification_report(Y_Test, Y_pred_gbm))"
      ],
      "metadata": {
        "id": "2iVn3Jpefhon"
      },
      "execution_count": null,
      "outputs": []
    },
    {
      "cell_type": "code",
      "source": [],
      "metadata": {
        "id": "mWAkH8LxhnOG"
      },
      "execution_count": null,
      "outputs": []
    },
    {
      "cell_type": "code",
      "source": [],
      "metadata": {
        "id": "mw9dhz6jtkiF"
      },
      "execution_count": null,
      "outputs": []
    },
    {
      "cell_type": "code",
      "source": [],
      "metadata": {
        "id": "zenZ2ftNhnhG"
      },
      "execution_count": null,
      "outputs": []
    },
    {
      "cell_type": "code",
      "source": [],
      "metadata": {
        "id": "q_lbU3lJhnxg"
      },
      "execution_count": null,
      "outputs": []
    },
    {
      "cell_type": "code",
      "source": [
        "from sklearn.tree import DecisionTreeClassifier"
      ],
      "metadata": {
        "id": "9RaVlevXV7_W"
      },
      "execution_count": null,
      "outputs": []
    },
    {
      "cell_type": "code",
      "source": [
        "# instantiate the DecisionTreeClassifier model with criterion entropy\n",
        "\n",
        "clf_en = DecisionTreeClassifier(max_depth=300, random_state=150)\n",
        "\n",
        "\n",
        "# fit the model\n",
        "clf_en.fit(X_Train, Y_Train)"
      ],
      "metadata": {
        "colab": {
          "base_uri": "https://localhost:8080/"
        },
        "id": "dTSLcUHcV8K_",
        "outputId": "acd0c7e1-7f45-4573-f2e0-9d119a978848"
      },
      "execution_count": null,
      "outputs": [
        {
          "output_type": "execute_result",
          "data": {
            "text/plain": [
              "DecisionTreeClassifier(max_depth=300, random_state=150)"
            ]
          },
          "metadata": {},
          "execution_count": 22
        }
      ]
    },
    {
      "cell_type": "code",
      "source": [
        "y_pred_en = clf_en.predict(X_Test)"
      ],
      "metadata": {
        "id": "y3g6JqhtWIMF"
      },
      "execution_count": null,
      "outputs": []
    },
    {
      "cell_type": "code",
      "source": [
        "import seaborn as sns\n",
        "from sklearn import metrics \n",
        "from matplotlib import pyplot as plt\n",
        "from sklearn.metrics import classification_report, confusion_matrix\n",
        "matrix = confusion_matrix(Y_Test, y_pred_en)\n",
        "sns.heatmap(matrix, annot=True, fmt=\"d\")\n",
        "plt.title('Confusion Matrix_DT')\n",
        "plt.xlabel('Predicted')\n",
        "plt.ylabel('True')\n",
        "print(classification_report(Y_Test, y_pred_en))"
      ],
      "metadata": {
        "id": "reF2ctR4WIQ7"
      },
      "execution_count": null,
      "outputs": []
    },
    {
      "cell_type": "code",
      "source": [
        "from sklearn.naive_bayes import MultinomialNB,GaussianNB"
      ],
      "metadata": {
        "id": "nbqKn44_Z8OU"
      },
      "execution_count": null,
      "outputs": []
    },
    {
      "cell_type": "code",
      "source": [
        "model_gauss= GaussianNB()"
      ],
      "metadata": {
        "id": "jBeTSq8vbEd3"
      },
      "execution_count": null,
      "outputs": []
    },
    {
      "cell_type": "code",
      "source": [],
      "metadata": {
        "id": "z2TcvMbxQ0qT"
      },
      "execution_count": null,
      "outputs": []
    },
    {
      "cell_type": "code",
      "source": [
        "model_gauss.fit(X_Train,Y_Train)"
      ],
      "metadata": {
        "colab": {
          "base_uri": "https://localhost:8080/"
        },
        "id": "7D5U_iNubWtY",
        "outputId": "a9b5c9de-d6d3-4455-8c64-ebc443c4a7f5"
      },
      "execution_count": null,
      "outputs": [
        {
          "output_type": "execute_result",
          "data": {
            "text/plain": [
              "GaussianNB()"
            ]
          },
          "metadata": {},
          "execution_count": 27
        }
      ]
    },
    {
      "cell_type": "code",
      "source": [
        "Y_Pred_gaussnb= model_gauss.predict(X_Test)"
      ],
      "metadata": {
        "id": "5OCGDzEkbYbF"
      },
      "execution_count": null,
      "outputs": []
    },
    {
      "cell_type": "code",
      "source": [
        "import seaborn as sns\n",
        "from sklearn import metrics \n",
        "from matplotlib import pyplot as plt\n",
        "from sklearn.metrics import classification_report, confusion_matrix\n",
        "matrix = confusion_matrix(Y_Test, Y_Pred_gaussnb)\n",
        "sns.heatmap(matrix, annot=True, fmt=\"d\")\n",
        "plt.title('Confusion Matrix_gaussnb')\n",
        "plt.xlabel('Predicted')\n",
        "plt.ylabel('True')\n",
        "print(classification_report(Y_Test, Y_Pred_gaussnb))"
      ],
      "metadata": {
        "id": "7WuS_rNCbfIR"
      },
      "execution_count": null,
      "outputs": []
    },
    {
      "cell_type": "code",
      "source": [
        "from sklearn.ensemble import AdaBoostClassifier\n",
        "classifier_ada = AdaBoostClassifier(n_estimators=100)\n",
        "classifier_ada.fit(X_Train,Y_Train)"
      ],
      "metadata": {
        "colab": {
          "base_uri": "https://localhost:8080/"
        },
        "id": "gzDSexypWIVl",
        "outputId": "1a9e5a56-1115-4091-f095-aec1dcc0ee4d"
      },
      "execution_count": null,
      "outputs": [
        {
          "output_type": "execute_result",
          "data": {
            "text/plain": [
              "AdaBoostClassifier(n_estimators=100)"
            ]
          },
          "metadata": {},
          "execution_count": 30
        }
      ]
    },
    {
      "cell_type": "code",
      "source": [
        "Y_Pred_ada = classifier_ada.predict(X_Test)"
      ],
      "metadata": {
        "id": "BI4RxjxGYOKc"
      },
      "execution_count": null,
      "outputs": []
    },
    {
      "cell_type": "code",
      "source": [
        "import seaborn as sns\n",
        "from sklearn import metrics \n",
        "from matplotlib import pyplot as plt\n",
        "from sklearn.metrics import classification_report, confusion_matrix\n",
        "matrix = confusion_matrix(Y_Test, Y_Pred_ada)\n",
        "sns.heatmap(matrix, annot=True, fmt=\"d\")\n",
        "plt.title('Confusion Matrix_ADA')\n",
        "plt.xlabel('Predicted')\n",
        "plt.ylabel('True')\n",
        "print(classification_report(Y_Test, Y_Pred_ada))"
      ],
      "metadata": {
        "id": "R7eIO_j0YR5m"
      },
      "execution_count": null,
      "outputs": []
    },
    {
      "cell_type": "code",
      "source": [
        "# Run it\n",
        "rom sklearn.ensemble import GradientBoostingClassifier\n",
        "classifier_gbm = GradientBoostingClassifier(max_depth=20)\n",
        "classifier_gbm.fit(X_Train,Y_Train)"
      ],
      "metadata": {
        "colab": {
          "base_uri": "https://localhost:8080/"
        },
        "id": "7_yG4j9NWIYw",
        "outputId": "44b97c64-a4e3-4e02-87af-5e53a4d1dec6"
      },
      "execution_count": null,
      "outputs": [
        {
          "output_type": "execute_result",
          "data": {
            "text/plain": [
              "GradientBoostingClassifier(max_depth=20)"
            ]
          },
          "metadata": {},
          "execution_count": 33
        }
      ]
    },
    {
      "cell_type": "code",
      "source": [
        "Y_Pred_gbm = classifier_gbm.predict(X_Test) # Run "
      ],
      "metadata": {
        "id": "NW1_kKelWIjw"
      },
      "execution_count": null,
      "outputs": []
    },
    {
      "cell_type": "code",
      "source": [
        "import seaborn as sns\n",
        "from sklearn import metrics \n",
        "from matplotlib import pyplot as plt\n",
        "from sklearn.metrics import classification_report, confusion_matrix\n",
        "matrix = confusion_matrix(Y_Test, Y_Pred_gbm)\n",
        "sns.heatmap(matrix, annot=True, fmt=\"d\")\n",
        "plt.title('Confusion Matrix_GBM')\n",
        "plt.xlabel('Predicted')\n",
        "plt.ylabel('True')\n",
        "print(classification_report(Y_Test, Y_Pred_gbm))#Run"
      ],
      "metadata": {
        "colab": {
          "base_uri": "https://localhost:8080/",
          "height": 492
        },
        "id": "9XrXpEXgWIxy",
        "outputId": "45cee85e-02b3-472e-f1e2-efc8804e61a8"
      },
      "execution_count": null,
      "outputs": [
        {
          "output_type": "stream",
          "name": "stdout",
          "text": [
            "              precision    recall  f1-score   support\n",
            "\n",
            "           0       0.64      0.71      0.67      1204\n",
            "           1       0.63      0.71      0.67      1231\n",
            "           2       0.73      0.66      0.69      1226\n",
            "           3       0.73      0.61      0.66      1208\n",
            "\n",
            "    accuracy                           0.67      4869\n",
            "   macro avg       0.68      0.67      0.67      4869\n",
            "weighted avg       0.68      0.67      0.67      4869\n",
            "\n"
          ]
        },
        {
          "output_type": "display_data",
          "data": {
            "text/plain": [
              "<Figure size 432x288 with 2 Axes>"
            ],
            "image/png": "[encoded data removed]"
          },
          "metadata": {}
        }
      ]
    },
    {
      "cell_type": "code",
      "source": [],
      "metadata": {
        "id": "Q3ADc2vfj4h4"
      },
      "execution_count": null,
      "outputs": []
    },
    {
      "cell_type": "code",
      "source": [
        "from sklearn.ensemble import HistGradientBoostingClassifier\n",
        "classifier_hgbm = HistGradientBoostingClassifier(max_depth=20)\n",
        "classifier_hgbm.fit(X_Train,Y_Train)"
      ],
      "metadata": {
        "colab": {
          "base_uri": "https://localhost:8080/"
        },
        "id": "T33xu3yTjj21",
        "outputId": "ebe028ab-58f9-438a-ac27-e9ab47354822"
      },
      "execution_count": null,
      "outputs": [
        {
          "output_type": "execute_result",
          "data": {
            "text/plain": [
              "HistGradientBoostingClassifier(max_depth=20)"
            ]
          },
          "metadata": {},
          "execution_count": 36
        }
      ]
    },
    {
      "cell_type": "code",
      "source": [
        "Y_Pred_hgbm = classifier_hgbm.predict(X_Test)"
      ],
      "metadata": {
        "id": "bzjML1Shj2W3"
      },
      "execution_count": null,
      "outputs": []
    },
    {
      "cell_type": "code",
      "source": [
        "import seaborn as sns\n",
        "from sklearn import metrics \n",
        "from matplotlib import pyplot as plt\n",
        "from sklearn.metrics import classification_report, confusion_matrix\n",
        "matrix = confusion_matrix(Y_Test, Y_Pred_hgbm)\n",
        "sns.heatmap(matrix, annot=True, fmt=\"d\")\n",
        "plt.title('Confusion Matrix_HGBM')\n",
        "plt.xlabel('Predicted')\n",
        "plt.ylabel('True')\n",
        "print(classification_report(Y_Test, Y_Pred_hgbm))"
      ],
      "metadata": {
        "colab": {
          "base_uri": "https://localhost:8080/",
          "height": 492
        },
        "id": "JfWu4pBlj5uq",
        "outputId": "add789d4-543b-4440-fdf7-5017440301c4"
      },
      "execution_count": null,
      "outputs": [
        {
          "output_type": "stream",
          "name": "stdout",
          "text": [
            "              precision    recall  f1-score   support\n",
            "\n",
            "           0       0.49      0.50      0.49      1204\n",
            "           1       0.49      0.49      0.49      1231\n",
            "           2       0.49      0.48      0.48      1226\n",
            "           3       0.48      0.50      0.49      1208\n",
            "\n",
            "    accuracy                           0.49      4869\n",
            "   macro avg       0.49      0.49      0.49      4869\n",
            "weighted avg       0.49      0.49      0.49      4869\n",
            "\n"
          ]
        },
        {
          "output_type": "display_data",
          "data": {
            "text/plain": [
              "<Figure size 432x288 with 2 Axes>"
            ],
            "image/png": "[encoded data removed]"
          },
          "metadata": {}
        }
      ]
    },
    {
      "cell_type": "code",
      "source": [
        "from sklearn.neural_network import MLPClassifier"
      ],
      "metadata": {
        "id": "N68p31-3WI-D"
      },
      "execution_count": null,
      "outputs": []
    },
    {
      "cell_type": "code",
      "source": [
        "classifier_mlp = MLPClassifier(random_state=1, max_iter=300)\n",
        "classifier_mlp.fit(X_Train,Y_Train)"
      ],
      "metadata": {
        "colab": {
          "base_uri": "https://localhost:8080/"
        },
        "id": "dM5wvpk-eAid",
        "outputId": "685d36f9-5d1f-42d1-ad10-2b80447f051c"
      },
      "execution_count": null,
      "outputs": [
        {
          "output_type": "stream",
          "name": "stderr",
          "text": [
            "/usr/local/lib/python3.8/dist-packages/sklearn/neural_network/_multilayer_perceptron.py:692: ConvergenceWarning: Stochastic Optimizer: Maximum iterations (300) reached and the optimization hasn't converged yet.\n",
            "  warnings.warn(\n"
          ]
        },
        {
          "output_type": "execute_result",
          "data": {
            "text/plain": [
              "MLPClassifier(max_iter=300, random_state=1)"
            ]
          },
          "metadata": {},
          "execution_count": 40
        }
      ]
    },
    {
      "cell_type": "code",
      "source": [
        "Y_Pred_mlp = classifier_mlp.predict(X_Test)"
      ],
      "metadata": {
        "id": "DhF7QROTeAwC"
      },
      "execution_count": null,
      "outputs": []
    },
    {
      "cell_type": "code",
      "source": [
        "X_conv = principalComponents.reshape(principalComponents.shape[0], principalComponents.shape[1], 1)\n",
        "print(X_conv.shape)"
      ],
      "metadata": {
        "colab": {
          "base_uri": "https://localhost:8080/"
        },
        "id": "juMuVyETLl9R",
        "outputId": "2f920464-89c1-43aa-c21a-a8ab59832480"
      },
      "execution_count": null,
      "outputs": [
        {
          "output_type": "stream",
          "name": "stdout",
          "text": [
            "(24343, 20, 1)\n"
          ]
        }
      ]
    },
    {
      "cell_type": "code",
      "source": [
        "xtrain, xtest, ytrain, ytest=train_test_split(X_conv, labels_out, test_size=0.25,random_state=120)"
      ],
      "metadata": {
        "id": "I3Z6jPUGLu2J"
      },
      "execution_count": null,
      "outputs": []
    },
    {
      "cell_type": "code",
      "source": [
        "#1-d CNN Architecture\n",
        "model = Sequential()\n",
        "model.add(Conv1D(filters = 1024, kernel_size = 3, activation=\"relu\", input_shape=(25,1)))\n",
        "# model.add(Dropout(0.5))\n",
        "model.add(Conv1D(filters=64, kernel_size=2, activation='relu'))\n",
        "# model.add(Dropout(0.2))\n",
        "model.add(MaxPooling1D(pool_size=2))\n",
        "model.add(Flatten())\n",
        "model.add(Dense(256, activation='relu'))\n",
        "model.add(Dense(1, activation='softmax'))\n",
        "model.compile(loss = 'categorical_crossentropy', optimizer = \"adam\",metrics = ['accuracy'])\n",
        "model.fit(xtrain, ytrain, batch_size=5,epochs=50, verbose=1)"
      ],
      "metadata": {
        "id": "4XVxrOWvL55f"
      },
      "execution_count": null,
      "outputs": []
    },
    {
      "cell_type": "code",
      "source": [],
      "metadata": {
        "id": "k7k8vkwIyjKk"
      },
      "execution_count": null,
      "outputs": []
    }
  ]
}